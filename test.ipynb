{
 "cells": [
  {
   "cell_type": "code",
   "execution_count": 1,
   "metadata": {},
   "outputs": [],
   "source": [
    "def hex2bin(hex_str:str):\n",
    "    return '{:032b}'.format(int(hex_str,16))"
   ]
  },
  {
   "cell_type": "code",
   "execution_count": 8,
   "metadata": {},
   "outputs": [
    {
     "output_type": "stream",
     "name": "stdout",
     "text": [
      "00101000011000100110100101100110\n00111101001000000010100100000000\n00000000000010100000000000100000\n"
     ]
    }
   ],
   "source": [
    "print(hex2bin(\"0x28626966\"))\n",
    "print(hex2bin(\"0x3d202900\"))\n",
    "print(hex2bin(\"0x000a0020\"))"
   ]
  },
  {
   "cell_type": "code",
   "execution_count": 10,
   "metadata": {},
   "outputs": [
    {
     "output_type": "execute_result",
     "data": {
      "text/plain": [
       "['01100110', '01101001', '01100010', '00101000']"
      ]
     },
     "metadata": {},
     "execution_count": 10
    }
   ],
   "source": [
    "s=\"fib(\"\n",
    "['{:08b}'.format(ord(each)) for each in s]"
   ]
  },
  {
   "cell_type": "code",
   "execution_count": null,
   "metadata": {},
   "outputs": [],
   "source": []
  }
 ],
 "metadata": {
  "kernelspec": {
   "display_name": "Python 3.7.3 64-bit",
   "language": "python",
   "name": "python37364bitb6fd02937a794cd19e20b5ea21c4350f"
  },
  "language_info": {
   "codemirror_mode": {
    "name": "ipython",
    "version": 3
   },
   "file_extension": ".py",
   "mimetype": "text/x-python",
   "name": "python",
   "nbconvert_exporter": "python",
   "pygments_lexer": "ipython3",
   "version": "3.7.8-final"
  }
 },
 "nbformat": 4,
 "nbformat_minor": 4
}