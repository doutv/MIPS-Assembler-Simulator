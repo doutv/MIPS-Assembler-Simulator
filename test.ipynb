{
 "cells": [
  {
   "cell_type": "code",
   "execution_count": 1,
   "metadata": {},
   "outputs": [],
   "source": [
    "def hex2bin(hex_str:str):\n",
    "    return '{:032b}'.format(int(hex_str,16))"
   ]
  },
  {
   "cell_type": "code",
   "execution_count": 2,
   "metadata": {},
   "outputs": [
    {
     "output_type": "stream",
     "name": "stdout",
     "text": [
      "00111100000000010000000001010000\n"
     ]
    }
   ],
   "source": [
    "print(hex2bin(\"0x3c010050\"))"
   ]
  },
  {
   "cell_type": "code",
   "execution_count": 3,
   "metadata": {},
   "outputs": [
    {
     "output_type": "execute_result",
     "data": {
      "text/plain": [
       "['01101100', '01101100', '01100101', '01101000']"
      ]
     },
     "metadata": {},
     "execution_count": 3
    }
   ],
   "source": [
    "s=\"lleh\"\n",
    "['{:08b}'.format(ord(each)) for each in s]"
   ]
  },
  {
   "cell_type": "code",
   "execution_count": 4,
   "metadata": {},
   "outputs": [
    {
     "output_type": "execute_result",
     "data": {
      "text/plain": [
       "'\\n'"
      ]
     },
     "metadata": {},
     "execution_count": 4
    }
   ],
   "source": [
    "chr(int(\"00001010\",2))"
   ]
  },
  {
   "cell_type": "code",
   "execution_count": 5,
   "metadata": {},
   "outputs": [
    {
     "output_type": "execute_result",
     "data": {
      "text/plain": [
       "102"
      ]
     },
     "metadata": {},
     "execution_count": 5
    }
   ],
   "source": [
    "int(\"01100110\",2)"
   ]
  },
  {
   "cell_type": "code",
   "execution_count": 6,
   "metadata": {},
   "outputs": [],
   "source": [
    "s = '00100000110011111111111111111100'"
   ]
  },
  {
   "cell_type": "code",
   "execution_count": 7,
   "metadata": {},
   "outputs": [
    {
     "output_type": "execute_result",
     "data": {
      "text/plain": [
       "'0x20cffffc'"
      ]
     },
     "metadata": {},
     "execution_count": 7
    }
   ],
   "source": [
    "hex(int(s,2))"
   ]
  },
  {
   "cell_type": "code",
   "execution_count": 8,
   "metadata": {},
   "outputs": [],
   "source": [
    "def mc2ascii(mc:str):\n",
    "    print(chr(int(mc[:8],2)))\n",
    "    print(chr(int(mc[8:16],2)))\n",
    "    print(chr(int(mc[16:24],2)))\n",
    "    print(chr(int(mc[24:32],2)))"
   ]
  },
  {
   "cell_type": "code",
   "execution_count": 9,
   "metadata": {},
   "outputs": [
    {
     "output_type": "stream",
     "name": "stdout",
     "text": [
      "l\ne\nh\n\n\n \n,\no\nl\nl\nr\no\nw\n\u0000\n\u0000\n\u0000\nd\n\u0000\n\u0000\n\u0000\n\n"
     ]
    }
   ],
   "source": [
    "s_list=[\n",
    "\"01101100011001010110100000001010\",\n",
    "\"00100000001011000110111101101100\",\n",
    "\"01101100011100100110111101110111\",\n",
    "\"00000000000000000000000001100100\",\n",
    "\"00000000000000000000000000001101\",\n",
    "]\n",
    "for each in s_list:\n",
    "    mc2ascii(each)"
   ]
  }
 ],
 "metadata": {
  "kernelspec": {
   "display_name": "Python 3.7.3 64-bit",
   "language": "python",
   "name": "python37364bitb6fd02937a794cd19e20b5ea21c4350f"
  },
  "language_info": {
   "codemirror_mode": {
    "name": "ipython",
    "version": 3
   },
   "file_extension": ".py",
   "mimetype": "text/x-python",
   "name": "python",
   "nbconvert_exporter": "python",
   "pygments_lexer": "ipython3",
   "version": "3.7.8"
  }
 },
 "nbformat": 4,
 "nbformat_minor": 4
}